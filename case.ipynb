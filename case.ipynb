{
 "metadata": {
  "language_info": {
   "codemirror_mode": {
    "name": "ipython",
    "version": 3
   },
   "file_extension": ".py",
   "mimetype": "text/x-python",
   "name": "python",
   "nbconvert_exporter": "python",
   "pygments_lexer": "ipython3",
   "version": "3.5.3-final"
  },
  "orig_nbformat": 2,
  "kernelspec": {
   "name": "Python 3.5.3 64-bit",
   "display_name": "Python 3.5.3 64-bit",
   "metadata": {
    "interpreter": {
     "hash": "31f2aee4e71d21fbe5cf8b01ff0e069b9275f58929596ceb00d14d90e3e16cd6"
    }
   }
  }
 },
 "nbformat": 4,
 "nbformat_minor": 2,
 "cells": [
  {
   "source": [
    "## Callcenter Case\n",
    "\n",
    "A seguir descrevemos os passos realizados na construção de um modelo de detecção de aderência para o referido banco.\n"
   ],
   "cell_type": "markdown",
   "metadata": {}
  },
  {
   "source": [
    "### Tratando o problema de variáveis faltantes"
   ],
   "cell_type": "markdown",
   "metadata": {}
  },
  {
   "cell_type": "code",
   "execution_count": 1,
   "metadata": {
    "tags": []
   },
   "outputs": [
    {
     "output_type": "stream",
     "name": "stdout",
     "text": [
      "Total number of registers:  41188\nNumber of registers missing variables:  10700\n"
     ]
    }
   ],
   "source": [
    "# Verificando o número de registros com variáveis faltando\n",
    "import preprocessing\n",
    "preprocessing.checkForIncompleteRegisters(\"data/callcenter_case.csv\")"
   ]
  },
  {
   "cell_type": "code",
   "execution_count": 2,
   "metadata": {
    "tags": []
   },
   "outputs": [
    {
     "output_type": "stream",
     "name": "stdout",
     "text": [
      "profissao 330\nemprestimo_pessoal 990\nemprestimo_moradia 990\ninadimplente 8597\nestado_civil 80\neducacao 1731\n"
     ]
    }
   ],
   "source": [
    "# Analisando se alguma feature é responsável por parte significativa das variáveis faltantes\n",
    "import preprocessing\n",
    "preprocessing.checkMissingVariablesByFeature()"
   ]
  },
  {
   "cell_type": "code",
   "execution_count": 3,
   "metadata": {},
   "outputs": [
    {
     "output_type": "stream",
     "name": "stdout",
     "text": [
      "Study about feature:  inadimplente\nsim 3\nnao 32588\n"
     ]
    },
    {
     "output_type": "display_data",
     "data": {
      "image/svg+xml": "<?xml version=\"1.0\" encoding=\"utf-8\" standalone=\"no\"?>\n<!DOCTYPE svg PUBLIC \"-//W3C//DTD SVG 1.1//EN\"\n  \"http://www.w3.org/Graphics/SVG/1.1/DTD/svg11.dtd\">\n<!-- Created with matplotlib (https://matplotlib.org/) -->\n<svg height=\"263.63625pt\" version=\"1.1\" viewBox=\"0 0 405.190625 263.63625\" width=\"405.190625pt\" xmlns=\"http://www.w3.org/2000/svg\" xmlns:xlink=\"http://www.w3.org/1999/xlink\">\n <defs>\n  <style type=\"text/css\">\n*{stroke-linecap:butt;stroke-linejoin:round;}\n  </style>\n </defs>\n <g id=\"figure_1\">\n  <g id=\"patch_1\">\n   <path d=\"M 0 263.63625 \nL 405.190625 263.63625 \nL 405.190625 0 \nL 0 0 \nz\n\" style=\"fill:none;\"/>\n  </g>\n  <g id=\"axes_1\">\n   <g id=\"patch_2\">\n    <path d=\"M 59.690625 239.758125 \nL 394.490625 239.758125 \nL 394.490625 22.318125 \nL 59.690625 22.318125 \nz\n\" style=\"fill:#ffffff;\"/>\n   </g>\n   <g id=\"patch_3\">\n    <path clip-path=\"url(#pef7fab4a55)\" d=\"M 74.908807 239.758125 \nL 114.608412 239.758125 \nL 114.608412 239.739061 \nL 74.908807 239.739061 \nz\n\" style=\"fill:#1f77b4;\"/>\n   </g>\n   <g id=\"patch_4\">\n    <path clip-path=\"url(#pef7fab4a55)\" d=\"M 339.572838 239.758125 \nL 379.272443 239.758125 \nL 379.272443 32.672411 \nL 339.572838 32.672411 \nz\n\" style=\"fill:#1f77b4;\"/>\n   </g>\n   <g id=\"matplotlib.axis_1\">\n    <g id=\"xtick_1\">\n     <g id=\"line2d_1\">\n      <defs>\n       <path d=\"M 0 0 \nL 0 3.5 \n\" id=\"m0da047d0fb\" style=\"stroke:#000000;stroke-width:0.8;\"/>\n      </defs>\n      <g>\n       <use style=\"stroke:#000000;stroke-width:0.8;\" x=\"94.758609\" xlink:href=\"#m0da047d0fb\" y=\"239.758125\"/>\n      </g>\n     </g>\n     <g id=\"text_1\">\n      <!-- sim -->\n      <defs>\n       <path d=\"M 44.28125 53.078125 \nL 44.28125 44.578125 \nQ 40.484375 46.53125 36.375 47.5 \nQ 32.28125 48.484375 27.875 48.484375 \nQ 21.1875 48.484375 17.84375 46.4375 \nQ 14.5 44.390625 14.5 40.28125 \nQ 14.5 37.15625 16.890625 35.375 \nQ 19.28125 33.59375 26.515625 31.984375 \nL 29.59375 31.296875 \nQ 39.15625 29.25 43.1875 25.515625 \nQ 47.21875 21.78125 47.21875 15.09375 \nQ 47.21875 7.46875 41.1875 3.015625 \nQ 35.15625 -1.421875 24.609375 -1.421875 \nQ 20.21875 -1.421875 15.453125 -0.5625 \nQ 10.6875 0.296875 5.421875 2 \nL 5.421875 11.28125 \nQ 10.40625 8.6875 15.234375 7.390625 \nQ 20.0625 6.109375 24.8125 6.109375 \nQ 31.15625 6.109375 34.5625 8.28125 \nQ 37.984375 10.453125 37.984375 14.40625 \nQ 37.984375 18.0625 35.515625 20.015625 \nQ 33.0625 21.96875 24.703125 23.78125 \nL 21.578125 24.515625 \nQ 13.234375 26.265625 9.515625 29.90625 \nQ 5.8125 33.546875 5.8125 39.890625 \nQ 5.8125 47.609375 11.28125 51.796875 \nQ 16.75 56 26.8125 56 \nQ 31.78125 56 36.171875 55.265625 \nQ 40.578125 54.546875 44.28125 53.078125 \nz\n\" id=\"DejaVuSans-115\"/>\n       <path d=\"M 9.421875 54.6875 \nL 18.40625 54.6875 \nL 18.40625 0 \nL 9.421875 0 \nz\nM 9.421875 75.984375 \nL 18.40625 75.984375 \nL 18.40625 64.59375 \nL 9.421875 64.59375 \nz\n\" id=\"DejaVuSans-105\"/>\n       <path d=\"M 52 44.1875 \nQ 55.375 50.25 60.0625 53.125 \nQ 64.75 56 71.09375 56 \nQ 79.640625 56 84.28125 50.015625 \nQ 88.921875 44.046875 88.921875 33.015625 \nL 88.921875 0 \nL 79.890625 0 \nL 79.890625 32.71875 \nQ 79.890625 40.578125 77.09375 44.375 \nQ 74.3125 48.1875 68.609375 48.1875 \nQ 61.625 48.1875 57.5625 43.546875 \nQ 53.515625 38.921875 53.515625 30.90625 \nL 53.515625 0 \nL 44.484375 0 \nL 44.484375 32.71875 \nQ 44.484375 40.625 41.703125 44.40625 \nQ 38.921875 48.1875 33.109375 48.1875 \nQ 26.21875 48.1875 22.15625 43.53125 \nQ 18.109375 38.875 18.109375 30.90625 \nL 18.109375 0 \nL 9.078125 0 \nL 9.078125 54.6875 \nL 18.109375 54.6875 \nL 18.109375 46.1875 \nQ 21.1875 51.21875 25.484375 53.609375 \nQ 29.78125 56 35.6875 56 \nQ 41.65625 56 45.828125 52.96875 \nQ 50 49.953125 52 44.1875 \nz\n\" id=\"DejaVuSans-109\"/>\n      </defs>\n      <g transform=\"translate(85.894547 254.356563)scale(0.1 -0.1)\">\n       <use xlink:href=\"#DejaVuSans-115\"/>\n       <use x=\"52.099609\" xlink:href=\"#DejaVuSans-105\"/>\n       <use x=\"79.882812\" xlink:href=\"#DejaVuSans-109\"/>\n      </g>\n     </g>\n    </g>\n    <g id=\"xtick_2\">\n     <g id=\"line2d_2\">\n      <g>\n       <use style=\"stroke:#000000;stroke-width:0.8;\" x=\"359.422641\" xlink:href=\"#m0da047d0fb\" y=\"239.758125\"/>\n      </g>\n     </g>\n     <g id=\"text_2\">\n      <!-- nao -->\n      <defs>\n       <path d=\"M 54.890625 33.015625 \nL 54.890625 0 \nL 45.90625 0 \nL 45.90625 32.71875 \nQ 45.90625 40.484375 42.875 44.328125 \nQ 39.84375 48.1875 33.796875 48.1875 \nQ 26.515625 48.1875 22.3125 43.546875 \nQ 18.109375 38.921875 18.109375 30.90625 \nL 18.109375 0 \nL 9.078125 0 \nL 9.078125 54.6875 \nL 18.109375 54.6875 \nL 18.109375 46.1875 \nQ 21.34375 51.125 25.703125 53.5625 \nQ 30.078125 56 35.796875 56 \nQ 45.21875 56 50.046875 50.171875 \nQ 54.890625 44.34375 54.890625 33.015625 \nz\n\" id=\"DejaVuSans-110\"/>\n       <path d=\"M 34.28125 27.484375 \nQ 23.390625 27.484375 19.1875 25 \nQ 14.984375 22.515625 14.984375 16.5 \nQ 14.984375 11.71875 18.140625 8.90625 \nQ 21.296875 6.109375 26.703125 6.109375 \nQ 34.1875 6.109375 38.703125 11.40625 \nQ 43.21875 16.703125 43.21875 25.484375 \nL 43.21875 27.484375 \nz\nM 52.203125 31.203125 \nL 52.203125 0 \nL 43.21875 0 \nL 43.21875 8.296875 \nQ 40.140625 3.328125 35.546875 0.953125 \nQ 30.953125 -1.421875 24.3125 -1.421875 \nQ 15.921875 -1.421875 10.953125 3.296875 \nQ 6 8.015625 6 15.921875 \nQ 6 25.140625 12.171875 29.828125 \nQ 18.359375 34.515625 30.609375 34.515625 \nL 43.21875 34.515625 \nL 43.21875 35.40625 \nQ 43.21875 41.609375 39.140625 45 \nQ 35.0625 48.390625 27.6875 48.390625 \nQ 23 48.390625 18.546875 47.265625 \nQ 14.109375 46.140625 10.015625 43.890625 \nL 10.015625 52.203125 \nQ 14.9375 54.109375 19.578125 55.046875 \nQ 24.21875 56 28.609375 56 \nQ 40.484375 56 46.34375 49.84375 \nQ 52.203125 43.703125 52.203125 31.203125 \nz\n\" id=\"DejaVuSans-97\"/>\n       <path d=\"M 30.609375 48.390625 \nQ 23.390625 48.390625 19.1875 42.75 \nQ 14.984375 37.109375 14.984375 27.296875 \nQ 14.984375 17.484375 19.15625 11.84375 \nQ 23.34375 6.203125 30.609375 6.203125 \nQ 37.796875 6.203125 41.984375 11.859375 \nQ 46.1875 17.53125 46.1875 27.296875 \nQ 46.1875 37.015625 41.984375 42.703125 \nQ 37.796875 48.390625 30.609375 48.390625 \nz\nM 30.609375 56 \nQ 42.328125 56 49.015625 48.375 \nQ 55.71875 40.765625 55.71875 27.296875 \nQ 55.71875 13.875 49.015625 6.21875 \nQ 42.328125 -1.421875 30.609375 -1.421875 \nQ 18.84375 -1.421875 12.171875 6.21875 \nQ 5.515625 13.875 5.515625 27.296875 \nQ 5.515625 40.765625 12.171875 48.375 \nQ 18.84375 56 30.609375 56 \nz\n\" id=\"DejaVuSans-111\"/>\n      </defs>\n      <g transform=\"translate(350.130453 254.356563)scale(0.1 -0.1)\">\n       <use xlink:href=\"#DejaVuSans-110\"/>\n       <use x=\"63.378906\" xlink:href=\"#DejaVuSans-97\"/>\n       <use x=\"124.658203\" xlink:href=\"#DejaVuSans-111\"/>\n      </g>\n     </g>\n    </g>\n   </g>\n   <g id=\"matplotlib.axis_2\">\n    <g id=\"ytick_1\">\n     <g id=\"line2d_3\">\n      <defs>\n       <path d=\"M 0 0 \nL -3.5 0 \n\" id=\"m906f6dbc62\" style=\"stroke:#000000;stroke-width:0.8;\"/>\n      </defs>\n      <g>\n       <use style=\"stroke:#000000;stroke-width:0.8;\" x=\"59.690625\" xlink:href=\"#m906f6dbc62\" y=\"239.758125\"/>\n      </g>\n     </g>\n     <g id=\"text_3\">\n      <!-- 0 -->\n      <defs>\n       <path d=\"M 31.78125 66.40625 \nQ 24.171875 66.40625 20.328125 58.90625 \nQ 16.5 51.421875 16.5 36.375 \nQ 16.5 21.390625 20.328125 13.890625 \nQ 24.171875 6.390625 31.78125 6.390625 \nQ 39.453125 6.390625 43.28125 13.890625 \nQ 47.125 21.390625 47.125 36.375 \nQ 47.125 51.421875 43.28125 58.90625 \nQ 39.453125 66.40625 31.78125 66.40625 \nz\nM 31.78125 74.21875 \nQ 44.046875 74.21875 50.515625 64.515625 \nQ 56.984375 54.828125 56.984375 36.375 \nQ 56.984375 17.96875 50.515625 8.265625 \nQ 44.046875 -1.421875 31.78125 -1.421875 \nQ 19.53125 -1.421875 13.0625 8.265625 \nQ 6.59375 17.96875 6.59375 36.375 \nQ 6.59375 54.828125 13.0625 64.515625 \nQ 19.53125 74.21875 31.78125 74.21875 \nz\n\" id=\"DejaVuSans-48\"/>\n      </defs>\n      <g transform=\"translate(46.328125 243.557344)scale(0.1 -0.1)\">\n       <use xlink:href=\"#DejaVuSans-48\"/>\n      </g>\n     </g>\n    </g>\n    <g id=\"ytick_2\">\n     <g id=\"line2d_4\">\n      <g>\n       <use style=\"stroke:#000000;stroke-width:0.8;\" x=\"59.690625\" xlink:href=\"#m906f6dbc62\" y=\"207.984817\"/>\n      </g>\n     </g>\n     <g id=\"text_4\">\n      <!-- 5000 -->\n      <defs>\n       <path d=\"M 10.796875 72.90625 \nL 49.515625 72.90625 \nL 49.515625 64.59375 \nL 19.828125 64.59375 \nL 19.828125 46.734375 \nQ 21.96875 47.46875 24.109375 47.828125 \nQ 26.265625 48.1875 28.421875 48.1875 \nQ 40.625 48.1875 47.75 41.5 \nQ 54.890625 34.8125 54.890625 23.390625 \nQ 54.890625 11.625 47.5625 5.09375 \nQ 40.234375 -1.421875 26.90625 -1.421875 \nQ 22.3125 -1.421875 17.546875 -0.640625 \nQ 12.796875 0.140625 7.71875 1.703125 \nL 7.71875 11.625 \nQ 12.109375 9.234375 16.796875 8.0625 \nQ 21.484375 6.890625 26.703125 6.890625 \nQ 35.15625 6.890625 40.078125 11.328125 \nQ 45.015625 15.765625 45.015625 23.390625 \nQ 45.015625 31 40.078125 35.4375 \nQ 35.15625 39.890625 26.703125 39.890625 \nQ 22.75 39.890625 18.8125 39.015625 \nQ 14.890625 38.140625 10.796875 36.28125 \nz\n\" id=\"DejaVuSans-53\"/>\n      </defs>\n      <g transform=\"translate(27.240625 211.784035)scale(0.1 -0.1)\">\n       <use xlink:href=\"#DejaVuSans-53\"/>\n       <use x=\"63.623047\" xlink:href=\"#DejaVuSans-48\"/>\n       <use x=\"127.246094\" xlink:href=\"#DejaVuSans-48\"/>\n       <use x=\"190.869141\" xlink:href=\"#DejaVuSans-48\"/>\n      </g>\n     </g>\n    </g>\n    <g id=\"ytick_3\">\n     <g id=\"line2d_5\">\n      <g>\n       <use style=\"stroke:#000000;stroke-width:0.8;\" x=\"59.690625\" xlink:href=\"#m906f6dbc62\" y=\"176.211508\"/>\n      </g>\n     </g>\n     <g id=\"text_5\">\n      <!-- 10000 -->\n      <defs>\n       <path d=\"M 12.40625 8.296875 \nL 28.515625 8.296875 \nL 28.515625 63.921875 \nL 10.984375 60.40625 \nL 10.984375 69.390625 \nL 28.421875 72.90625 \nL 38.28125 72.90625 \nL 38.28125 8.296875 \nL 54.390625 8.296875 \nL 54.390625 0 \nL 12.40625 0 \nz\n\" id=\"DejaVuSans-49\"/>\n      </defs>\n      <g transform=\"translate(20.878125 180.010727)scale(0.1 -0.1)\">\n       <use xlink:href=\"#DejaVuSans-49\"/>\n       <use x=\"63.623047\" xlink:href=\"#DejaVuSans-48\"/>\n       <use x=\"127.246094\" xlink:href=\"#DejaVuSans-48\"/>\n       <use x=\"190.869141\" xlink:href=\"#DejaVuSans-48\"/>\n       <use x=\"254.492188\" xlink:href=\"#DejaVuSans-48\"/>\n      </g>\n     </g>\n    </g>\n    <g id=\"ytick_4\">\n     <g id=\"line2d_6\">\n      <g>\n       <use style=\"stroke:#000000;stroke-width:0.8;\" x=\"59.690625\" xlink:href=\"#m906f6dbc62\" y=\"144.4382\"/>\n      </g>\n     </g>\n     <g id=\"text_6\">\n      <!-- 15000 -->\n      <g transform=\"translate(20.878125 148.237419)scale(0.1 -0.1)\">\n       <use xlink:href=\"#DejaVuSans-49\"/>\n       <use x=\"63.623047\" xlink:href=\"#DejaVuSans-53\"/>\n       <use x=\"127.246094\" xlink:href=\"#DejaVuSans-48\"/>\n       <use x=\"190.869141\" xlink:href=\"#DejaVuSans-48\"/>\n       <use x=\"254.492188\" xlink:href=\"#DejaVuSans-48\"/>\n      </g>\n     </g>\n    </g>\n    <g id=\"ytick_5\">\n     <g id=\"line2d_7\">\n      <g>\n       <use style=\"stroke:#000000;stroke-width:0.8;\" x=\"59.690625\" xlink:href=\"#m906f6dbc62\" y=\"112.664892\"/>\n      </g>\n     </g>\n     <g id=\"text_7\">\n      <!-- 20000 -->\n      <defs>\n       <path d=\"M 19.1875 8.296875 \nL 53.609375 8.296875 \nL 53.609375 0 \nL 7.328125 0 \nL 7.328125 8.296875 \nQ 12.9375 14.109375 22.625 23.890625 \nQ 32.328125 33.6875 34.8125 36.53125 \nQ 39.546875 41.84375 41.421875 45.53125 \nQ 43.3125 49.21875 43.3125 52.78125 \nQ 43.3125 58.59375 39.234375 62.25 \nQ 35.15625 65.921875 28.609375 65.921875 \nQ 23.96875 65.921875 18.8125 64.3125 \nQ 13.671875 62.703125 7.8125 59.421875 \nL 7.8125 69.390625 \nQ 13.765625 71.78125 18.9375 73 \nQ 24.125 74.21875 28.421875 74.21875 \nQ 39.75 74.21875 46.484375 68.546875 \nQ 53.21875 62.890625 53.21875 53.421875 \nQ 53.21875 48.921875 51.53125 44.890625 \nQ 49.859375 40.875 45.40625 35.40625 \nQ 44.1875 33.984375 37.640625 27.21875 \nQ 31.109375 20.453125 19.1875 8.296875 \nz\n\" id=\"DejaVuSans-50\"/>\n      </defs>\n      <g transform=\"translate(20.878125 116.46411)scale(0.1 -0.1)\">\n       <use xlink:href=\"#DejaVuSans-50\"/>\n       <use x=\"63.623047\" xlink:href=\"#DejaVuSans-48\"/>\n       <use x=\"127.246094\" xlink:href=\"#DejaVuSans-48\"/>\n       <use x=\"190.869141\" xlink:href=\"#DejaVuSans-48\"/>\n       <use x=\"254.492188\" xlink:href=\"#DejaVuSans-48\"/>\n      </g>\n     </g>\n    </g>\n    <g id=\"ytick_6\">\n     <g id=\"line2d_8\">\n      <g>\n       <use style=\"stroke:#000000;stroke-width:0.8;\" x=\"59.690625\" xlink:href=\"#m906f6dbc62\" y=\"80.891583\"/>\n      </g>\n     </g>\n     <g id=\"text_8\">\n      <!-- 25000 -->\n      <g transform=\"translate(20.878125 84.690802)scale(0.1 -0.1)\">\n       <use xlink:href=\"#DejaVuSans-50\"/>\n       <use x=\"63.623047\" xlink:href=\"#DejaVuSans-53\"/>\n       <use x=\"127.246094\" xlink:href=\"#DejaVuSans-48\"/>\n       <use x=\"190.869141\" xlink:href=\"#DejaVuSans-48\"/>\n       <use x=\"254.492188\" xlink:href=\"#DejaVuSans-48\"/>\n      </g>\n     </g>\n    </g>\n    <g id=\"ytick_7\">\n     <g id=\"line2d_9\">\n      <g>\n       <use style=\"stroke:#000000;stroke-width:0.8;\" x=\"59.690625\" xlink:href=\"#m906f6dbc62\" y=\"49.118275\"/>\n      </g>\n     </g>\n     <g id=\"text_9\">\n      <!-- 30000 -->\n      <defs>\n       <path d=\"M 40.578125 39.3125 \nQ 47.65625 37.796875 51.625 33 \nQ 55.609375 28.21875 55.609375 21.1875 \nQ 55.609375 10.40625 48.1875 4.484375 \nQ 40.765625 -1.421875 27.09375 -1.421875 \nQ 22.515625 -1.421875 17.65625 -0.515625 \nQ 12.796875 0.390625 7.625 2.203125 \nL 7.625 11.71875 \nQ 11.71875 9.328125 16.59375 8.109375 \nQ 21.484375 6.890625 26.8125 6.890625 \nQ 36.078125 6.890625 40.9375 10.546875 \nQ 45.796875 14.203125 45.796875 21.1875 \nQ 45.796875 27.640625 41.28125 31.265625 \nQ 36.765625 34.90625 28.71875 34.90625 \nL 20.21875 34.90625 \nL 20.21875 43.015625 \nL 29.109375 43.015625 \nQ 36.375 43.015625 40.234375 45.921875 \nQ 44.09375 48.828125 44.09375 54.296875 \nQ 44.09375 59.90625 40.109375 62.90625 \nQ 36.140625 65.921875 28.71875 65.921875 \nQ 24.65625 65.921875 20.015625 65.03125 \nQ 15.375 64.15625 9.8125 62.3125 \nL 9.8125 71.09375 \nQ 15.4375 72.65625 20.34375 73.4375 \nQ 25.25 74.21875 29.59375 74.21875 \nQ 40.828125 74.21875 47.359375 69.109375 \nQ 53.90625 64.015625 53.90625 55.328125 \nQ 53.90625 49.265625 50.4375 45.09375 \nQ 46.96875 40.921875 40.578125 39.3125 \nz\n\" id=\"DejaVuSans-51\"/>\n      </defs>\n      <g transform=\"translate(20.878125 52.917494)scale(0.1 -0.1)\">\n       <use xlink:href=\"#DejaVuSans-51\"/>\n       <use x=\"63.623047\" xlink:href=\"#DejaVuSans-48\"/>\n       <use x=\"127.246094\" xlink:href=\"#DejaVuSans-48\"/>\n       <use x=\"190.869141\" xlink:href=\"#DejaVuSans-48\"/>\n       <use x=\"254.492188\" xlink:href=\"#DejaVuSans-48\"/>\n      </g>\n     </g>\n    </g>\n    <g id=\"text_10\">\n     <!-- Number of Occurrences -->\n     <defs>\n      <path d=\"M 9.8125 72.90625 \nL 23.09375 72.90625 \nL 55.421875 11.921875 \nL 55.421875 72.90625 \nL 64.984375 72.90625 \nL 64.984375 0 \nL 51.703125 0 \nL 19.390625 60.984375 \nL 19.390625 0 \nL 9.8125 0 \nz\n\" id=\"DejaVuSans-78\"/>\n      <path d=\"M 8.5 21.578125 \nL 8.5 54.6875 \nL 17.484375 54.6875 \nL 17.484375 21.921875 \nQ 17.484375 14.15625 20.5 10.265625 \nQ 23.53125 6.390625 29.59375 6.390625 \nQ 36.859375 6.390625 41.078125 11.03125 \nQ 45.3125 15.671875 45.3125 23.6875 \nL 45.3125 54.6875 \nL 54.296875 54.6875 \nL 54.296875 0 \nL 45.3125 0 \nL 45.3125 8.40625 \nQ 42.046875 3.421875 37.71875 1 \nQ 33.40625 -1.421875 27.6875 -1.421875 \nQ 18.265625 -1.421875 13.375 4.4375 \nQ 8.5 10.296875 8.5 21.578125 \nz\nM 31.109375 56 \nz\n\" id=\"DejaVuSans-117\"/>\n      <path d=\"M 48.6875 27.296875 \nQ 48.6875 37.203125 44.609375 42.84375 \nQ 40.53125 48.484375 33.40625 48.484375 \nQ 26.265625 48.484375 22.1875 42.84375 \nQ 18.109375 37.203125 18.109375 27.296875 \nQ 18.109375 17.390625 22.1875 11.75 \nQ 26.265625 6.109375 33.40625 6.109375 \nQ 40.53125 6.109375 44.609375 11.75 \nQ 48.6875 17.390625 48.6875 27.296875 \nz\nM 18.109375 46.390625 \nQ 20.953125 51.265625 25.265625 53.625 \nQ 29.59375 56 35.59375 56 \nQ 45.5625 56 51.78125 48.09375 \nQ 58.015625 40.1875 58.015625 27.296875 \nQ 58.015625 14.40625 51.78125 6.484375 \nQ 45.5625 -1.421875 35.59375 -1.421875 \nQ 29.59375 -1.421875 25.265625 0.953125 \nQ 20.953125 3.328125 18.109375 8.203125 \nL 18.109375 0 \nL 9.078125 0 \nL 9.078125 75.984375 \nL 18.109375 75.984375 \nz\n\" id=\"DejaVuSans-98\"/>\n      <path d=\"M 56.203125 29.59375 \nL 56.203125 25.203125 \nL 14.890625 25.203125 \nQ 15.484375 15.921875 20.484375 11.0625 \nQ 25.484375 6.203125 34.421875 6.203125 \nQ 39.59375 6.203125 44.453125 7.46875 \nQ 49.3125 8.734375 54.109375 11.28125 \nL 54.109375 2.78125 \nQ 49.265625 0.734375 44.1875 -0.34375 \nQ 39.109375 -1.421875 33.890625 -1.421875 \nQ 20.796875 -1.421875 13.15625 6.1875 \nQ 5.515625 13.8125 5.515625 26.8125 \nQ 5.515625 40.234375 12.765625 48.109375 \nQ 20.015625 56 32.328125 56 \nQ 43.359375 56 49.78125 48.890625 \nQ 56.203125 41.796875 56.203125 29.59375 \nz\nM 47.21875 32.234375 \nQ 47.125 39.59375 43.09375 43.984375 \nQ 39.0625 48.390625 32.421875 48.390625 \nQ 24.90625 48.390625 20.390625 44.140625 \nQ 15.875 39.890625 15.1875 32.171875 \nz\n\" id=\"DejaVuSans-101\"/>\n      <path d=\"M 41.109375 46.296875 \nQ 39.59375 47.171875 37.8125 47.578125 \nQ 36.03125 48 33.890625 48 \nQ 26.265625 48 22.1875 43.046875 \nQ 18.109375 38.09375 18.109375 28.8125 \nL 18.109375 0 \nL 9.078125 0 \nL 9.078125 54.6875 \nL 18.109375 54.6875 \nL 18.109375 46.1875 \nQ 20.953125 51.171875 25.484375 53.578125 \nQ 30.03125 56 36.53125 56 \nQ 37.453125 56 38.578125 55.875 \nQ 39.703125 55.765625 41.0625 55.515625 \nz\n\" id=\"DejaVuSans-114\"/>\n      <path id=\"DejaVuSans-32\"/>\n      <path d=\"M 37.109375 75.984375 \nL 37.109375 68.5 \nL 28.515625 68.5 \nQ 23.6875 68.5 21.796875 66.546875 \nQ 19.921875 64.59375 19.921875 59.515625 \nL 19.921875 54.6875 \nL 34.71875 54.6875 \nL 34.71875 47.703125 \nL 19.921875 47.703125 \nL 19.921875 0 \nL 10.890625 0 \nL 10.890625 47.703125 \nL 2.296875 47.703125 \nL 2.296875 54.6875 \nL 10.890625 54.6875 \nL 10.890625 58.5 \nQ 10.890625 67.625 15.140625 71.796875 \nQ 19.390625 75.984375 28.609375 75.984375 \nz\n\" id=\"DejaVuSans-102\"/>\n      <path d=\"M 39.40625 66.21875 \nQ 28.65625 66.21875 22.328125 58.203125 \nQ 16.015625 50.203125 16.015625 36.375 \nQ 16.015625 22.609375 22.328125 14.59375 \nQ 28.65625 6.59375 39.40625 6.59375 \nQ 50.140625 6.59375 56.421875 14.59375 \nQ 62.703125 22.609375 62.703125 36.375 \nQ 62.703125 50.203125 56.421875 58.203125 \nQ 50.140625 66.21875 39.40625 66.21875 \nz\nM 39.40625 74.21875 \nQ 54.734375 74.21875 63.90625 63.9375 \nQ 73.09375 53.65625 73.09375 36.375 \nQ 73.09375 19.140625 63.90625 8.859375 \nQ 54.734375 -1.421875 39.40625 -1.421875 \nQ 24.03125 -1.421875 14.8125 8.828125 \nQ 5.609375 19.09375 5.609375 36.375 \nQ 5.609375 53.65625 14.8125 63.9375 \nQ 24.03125 74.21875 39.40625 74.21875 \nz\n\" id=\"DejaVuSans-79\"/>\n      <path d=\"M 48.78125 52.59375 \nL 48.78125 44.1875 \nQ 44.96875 46.296875 41.140625 47.34375 \nQ 37.3125 48.390625 33.40625 48.390625 \nQ 24.65625 48.390625 19.8125 42.84375 \nQ 14.984375 37.3125 14.984375 27.296875 \nQ 14.984375 17.28125 19.8125 11.734375 \nQ 24.65625 6.203125 33.40625 6.203125 \nQ 37.3125 6.203125 41.140625 7.25 \nQ 44.96875 8.296875 48.78125 10.40625 \nL 48.78125 2.09375 \nQ 45.015625 0.34375 40.984375 -0.53125 \nQ 36.96875 -1.421875 32.421875 -1.421875 \nQ 20.0625 -1.421875 12.78125 6.34375 \nQ 5.515625 14.109375 5.515625 27.296875 \nQ 5.515625 40.671875 12.859375 48.328125 \nQ 20.21875 56 33.015625 56 \nQ 37.15625 56 41.109375 55.140625 \nQ 45.0625 54.296875 48.78125 52.59375 \nz\n\" id=\"DejaVuSans-99\"/>\n     </defs>\n     <g transform=\"translate(14.798438 190.509219)rotate(-90)scale(0.1 -0.1)\">\n      <use xlink:href=\"#DejaVuSans-78\"/>\n      <use x=\"74.804688\" xlink:href=\"#DejaVuSans-117\"/>\n      <use x=\"138.183594\" xlink:href=\"#DejaVuSans-109\"/>\n      <use x=\"235.595703\" xlink:href=\"#DejaVuSans-98\"/>\n      <use x=\"299.072266\" xlink:href=\"#DejaVuSans-101\"/>\n      <use x=\"360.595703\" xlink:href=\"#DejaVuSans-114\"/>\n      <use x=\"401.708984\" xlink:href=\"#DejaVuSans-32\"/>\n      <use x=\"433.496094\" xlink:href=\"#DejaVuSans-111\"/>\n      <use x=\"494.677734\" xlink:href=\"#DejaVuSans-102\"/>\n      <use x=\"529.882812\" xlink:href=\"#DejaVuSans-32\"/>\n      <use x=\"561.669922\" xlink:href=\"#DejaVuSans-79\"/>\n      <use x=\"640.380859\" xlink:href=\"#DejaVuSans-99\"/>\n      <use x=\"695.361328\" xlink:href=\"#DejaVuSans-99\"/>\n      <use x=\"750.341797\" xlink:href=\"#DejaVuSans-117\"/>\n      <use x=\"813.720703\" xlink:href=\"#DejaVuSans-114\"/>\n      <use x=\"854.818359\" xlink:href=\"#DejaVuSans-114\"/>\n      <use x=\"895.900391\" xlink:href=\"#DejaVuSans-101\"/>\n      <use x=\"957.423828\" xlink:href=\"#DejaVuSans-110\"/>\n      <use x=\"1020.802734\" xlink:href=\"#DejaVuSans-99\"/>\n      <use x=\"1075.783203\" xlink:href=\"#DejaVuSans-101\"/>\n      <use x=\"1137.306641\" xlink:href=\"#DejaVuSans-115\"/>\n     </g>\n    </g>\n   </g>\n   <g id=\"patch_5\">\n    <path d=\"M 59.690625 239.758125 \nL 59.690625 22.318125 \n\" style=\"fill:none;stroke:#000000;stroke-linecap:square;stroke-linejoin:miter;stroke-width:0.8;\"/>\n   </g>\n   <g id=\"patch_6\">\n    <path d=\"M 394.490625 239.758125 \nL 394.490625 22.318125 \n\" style=\"fill:none;stroke:#000000;stroke-linecap:square;stroke-linejoin:miter;stroke-width:0.8;\"/>\n   </g>\n   <g id=\"patch_7\">\n    <path d=\"M 59.690625 239.758125 \nL 394.490625 239.758125 \n\" style=\"fill:none;stroke:#000000;stroke-linecap:square;stroke-linejoin:miter;stroke-width:0.8;\"/>\n   </g>\n   <g id=\"patch_8\">\n    <path d=\"M 59.690625 22.318125 \nL 394.490625 22.318125 \n\" style=\"fill:none;stroke:#000000;stroke-linecap:square;stroke-linejoin:miter;stroke-width:0.8;\"/>\n   </g>\n   <g id=\"text_11\">\n    <!-- Study about feature: inadimplente -->\n    <defs>\n     <path d=\"M 53.515625 70.515625 \nL 53.515625 60.890625 \nQ 47.90625 63.578125 42.921875 64.890625 \nQ 37.9375 66.21875 33.296875 66.21875 \nQ 25.25 66.21875 20.875 63.09375 \nQ 16.5 59.96875 16.5 54.203125 \nQ 16.5 49.359375 19.40625 46.890625 \nQ 22.3125 44.4375 30.421875 42.921875 \nL 36.375 41.703125 \nQ 47.40625 39.59375 52.65625 34.296875 \nQ 57.90625 29 57.90625 20.125 \nQ 57.90625 9.515625 50.796875 4.046875 \nQ 43.703125 -1.421875 29.984375 -1.421875 \nQ 24.8125 -1.421875 18.96875 -0.25 \nQ 13.140625 0.921875 6.890625 3.21875 \nL 6.890625 13.375 \nQ 12.890625 10.015625 18.65625 8.296875 \nQ 24.421875 6.59375 29.984375 6.59375 \nQ 38.421875 6.59375 43.015625 9.90625 \nQ 47.609375 13.234375 47.609375 19.390625 \nQ 47.609375 24.75 44.3125 27.78125 \nQ 41.015625 30.8125 33.5 32.328125 \nL 27.484375 33.5 \nQ 16.453125 35.6875 11.515625 40.375 \nQ 6.59375 45.0625 6.59375 53.421875 \nQ 6.59375 63.09375 13.40625 68.65625 \nQ 20.21875 74.21875 32.171875 74.21875 \nQ 37.3125 74.21875 42.625 73.28125 \nQ 47.953125 72.359375 53.515625 70.515625 \nz\n\" id=\"DejaVuSans-83\"/>\n     <path d=\"M 18.3125 70.21875 \nL 18.3125 54.6875 \nL 36.8125 54.6875 \nL 36.8125 47.703125 \nL 18.3125 47.703125 \nL 18.3125 18.015625 \nQ 18.3125 11.328125 20.140625 9.421875 \nQ 21.96875 7.515625 27.59375 7.515625 \nL 36.8125 7.515625 \nL 36.8125 0 \nL 27.59375 0 \nQ 17.1875 0 13.234375 3.875 \nQ 9.28125 7.765625 9.28125 18.015625 \nL 9.28125 47.703125 \nL 2.6875 47.703125 \nL 2.6875 54.6875 \nL 9.28125 54.6875 \nL 9.28125 70.21875 \nz\n\" id=\"DejaVuSans-116\"/>\n     <path d=\"M 45.40625 46.390625 \nL 45.40625 75.984375 \nL 54.390625 75.984375 \nL 54.390625 0 \nL 45.40625 0 \nL 45.40625 8.203125 \nQ 42.578125 3.328125 38.25 0.953125 \nQ 33.9375 -1.421875 27.875 -1.421875 \nQ 17.96875 -1.421875 11.734375 6.484375 \nQ 5.515625 14.40625 5.515625 27.296875 \nQ 5.515625 40.1875 11.734375 48.09375 \nQ 17.96875 56 27.875 56 \nQ 33.9375 56 38.25 53.625 \nQ 42.578125 51.265625 45.40625 46.390625 \nz\nM 14.796875 27.296875 \nQ 14.796875 17.390625 18.875 11.75 \nQ 22.953125 6.109375 30.078125 6.109375 \nQ 37.203125 6.109375 41.296875 11.75 \nQ 45.40625 17.390625 45.40625 27.296875 \nQ 45.40625 37.203125 41.296875 42.84375 \nQ 37.203125 48.484375 30.078125 48.484375 \nQ 22.953125 48.484375 18.875 42.84375 \nQ 14.796875 37.203125 14.796875 27.296875 \nz\n\" id=\"DejaVuSans-100\"/>\n     <path d=\"M 32.171875 -5.078125 \nQ 28.375 -14.84375 24.75 -17.8125 \nQ 21.140625 -20.796875 15.09375 -20.796875 \nL 7.90625 -20.796875 \nL 7.90625 -13.28125 \nL 13.1875 -13.28125 \nQ 16.890625 -13.28125 18.9375 -11.515625 \nQ 21 -9.765625 23.484375 -3.21875 \nL 25.09375 0.875 \nL 2.984375 54.6875 \nL 12.5 54.6875 \nL 29.59375 11.921875 \nL 46.6875 54.6875 \nL 56.203125 54.6875 \nz\n\" id=\"DejaVuSans-121\"/>\n     <path d=\"M 11.71875 12.40625 \nL 22.015625 12.40625 \nL 22.015625 0 \nL 11.71875 0 \nz\nM 11.71875 51.703125 \nL 22.015625 51.703125 \nL 22.015625 39.3125 \nL 11.71875 39.3125 \nz\n\" id=\"DejaVuSans-58\"/>\n     <path d=\"M 18.109375 8.203125 \nL 18.109375 -20.796875 \nL 9.078125 -20.796875 \nL 9.078125 54.6875 \nL 18.109375 54.6875 \nL 18.109375 46.390625 \nQ 20.953125 51.265625 25.265625 53.625 \nQ 29.59375 56 35.59375 56 \nQ 45.5625 56 51.78125 48.09375 \nQ 58.015625 40.1875 58.015625 27.296875 \nQ 58.015625 14.40625 51.78125 6.484375 \nQ 45.5625 -1.421875 35.59375 -1.421875 \nQ 29.59375 -1.421875 25.265625 0.953125 \nQ 20.953125 3.328125 18.109375 8.203125 \nz\nM 48.6875 27.296875 \nQ 48.6875 37.203125 44.609375 42.84375 \nQ 40.53125 48.484375 33.40625 48.484375 \nQ 26.265625 48.484375 22.1875 42.84375 \nQ 18.109375 37.203125 18.109375 27.296875 \nQ 18.109375 17.390625 22.1875 11.75 \nQ 26.265625 6.109375 33.40625 6.109375 \nQ 40.53125 6.109375 44.609375 11.75 \nQ 48.6875 17.390625 48.6875 27.296875 \nz\n\" id=\"DejaVuSans-112\"/>\n     <path d=\"M 9.421875 75.984375 \nL 18.40625 75.984375 \nL 18.40625 0 \nL 9.421875 0 \nz\n\" id=\"DejaVuSans-108\"/>\n    </defs>\n    <g transform=\"translate(123.439688 16.318125)scale(0.12 -0.12)\">\n     <use xlink:href=\"#DejaVuSans-83\"/>\n     <use x=\"63.476562\" xlink:href=\"#DejaVuSans-116\"/>\n     <use x=\"102.685547\" xlink:href=\"#DejaVuSans-117\"/>\n     <use x=\"166.064453\" xlink:href=\"#DejaVuSans-100\"/>\n     <use x=\"229.541016\" xlink:href=\"#DejaVuSans-121\"/>\n     <use x=\"288.720703\" xlink:href=\"#DejaVuSans-32\"/>\n     <use x=\"320.507812\" xlink:href=\"#DejaVuSans-97\"/>\n     <use x=\"381.787109\" xlink:href=\"#DejaVuSans-98\"/>\n     <use x=\"445.263672\" xlink:href=\"#DejaVuSans-111\"/>\n     <use x=\"506.445312\" xlink:href=\"#DejaVuSans-117\"/>\n     <use x=\"569.824219\" xlink:href=\"#DejaVuSans-116\"/>\n     <use x=\"609.033203\" xlink:href=\"#DejaVuSans-32\"/>\n     <use x=\"640.820312\" xlink:href=\"#DejaVuSans-102\"/>\n     <use x=\"676.025391\" xlink:href=\"#DejaVuSans-101\"/>\n     <use x=\"737.548828\" xlink:href=\"#DejaVuSans-97\"/>\n     <use x=\"798.828125\" xlink:href=\"#DejaVuSans-116\"/>\n     <use x=\"838.037109\" xlink:href=\"#DejaVuSans-117\"/>\n     <use x=\"901.416016\" xlink:href=\"#DejaVuSans-114\"/>\n     <use x=\"942.498047\" xlink:href=\"#DejaVuSans-101\"/>\n     <use x=\"1004.021484\" xlink:href=\"#DejaVuSans-58\"/>\n     <use x=\"1037.712891\" xlink:href=\"#DejaVuSans-32\"/>\n     <use x=\"1069.5\" xlink:href=\"#DejaVuSans-105\"/>\n     <use x=\"1097.283203\" xlink:href=\"#DejaVuSans-110\"/>\n     <use x=\"1160.662109\" xlink:href=\"#DejaVuSans-97\"/>\n     <use x=\"1221.941406\" xlink:href=\"#DejaVuSans-100\"/>\n     <use x=\"1285.417969\" xlink:href=\"#DejaVuSans-105\"/>\n     <use x=\"1313.201172\" xlink:href=\"#DejaVuSans-109\"/>\n     <use x=\"1410.613281\" xlink:href=\"#DejaVuSans-112\"/>\n     <use x=\"1474.089844\" xlink:href=\"#DejaVuSans-108\"/>\n     <use x=\"1501.873047\" xlink:href=\"#DejaVuSans-101\"/>\n     <use x=\"1563.396484\" xlink:href=\"#DejaVuSans-110\"/>\n     <use x=\"1626.775391\" xlink:href=\"#DejaVuSans-116\"/>\n     <use x=\"1665.984375\" xlink:href=\"#DejaVuSans-101\"/>\n    </g>\n   </g>\n  </g>\n </g>\n <defs>\n  <clipPath id=\"pef7fab4a55\">\n   <rect height=\"217.44\" width=\"334.8\" x=\"59.690625\" y=\"22.318125\"/>\n  </clipPath>\n </defs>\n</svg>\n",
      "text/plain": "<Figure size 432x288 with 1 Axes>",
      "image/png": "[encoded data removed]"
     },
     "metadata": {
      "needs_background": "light"
     }
    }
   ],
   "source": [
    "# A feature \"inadimplente\" é responsável pela maior parte das variáveis faltantes. Assim, vamos avaliar o impacto da remoção dessa feature\n",
    "import preprocessing\n",
    "preprocessing.featureDistribution(4)"
   ]
  },
  {
   "cell_type": "code",
   "execution_count": 1,
   "metadata": {},
   "outputs": [
    {
     "output_type": "stream",
     "name": "stdout",
     "text": [
      "Feature \"inadimplente\" removed from data.\n"
     ]
    }
   ],
   "source": [
    "# Como podemos observar, o atributo com maior número de variáveis faltantes quase não gera ganho de informação, então iremos remover essa feature dos dados.\n",
    "import preprocessing\n",
    "preprocessing.removeSpecificFeature(4, \"data/callcenter_case.csv\",\\\n",
    "            \"data/callcenter_case_no-inadimplente.csv\")"
   ]
  },
  {
   "cell_type": "code",
   "execution_count": 2,
   "metadata": {},
   "outputs": [
    {
     "output_type": "stream",
     "name": "stdout",
     "text": [
      "Total number of registers:  41188\nNumber of registers missing variables:  2943\n"
     ]
    }
   ],
   "source": [
    "# Depois de remover a feature \"inadimplente\", vamos verificar o número de registros restantes que ainda contém alguma variável faltante.\n",
    "import preprocessing\n",
    "preprocessing.checkForIncompleteRegisters(\"data/callcenter_case_no-inadimplente.csv\")"
   ]
  },
  {
   "cell_type": "code",
   "execution_count": 2,
   "metadata": {},
   "outputs": [
    {
     "output_type": "stream",
     "name": "stdout",
     "text": [
      "Total number of registers:  38245\nNumber of registers missing variables:  0\n"
     ]
    }
   ],
   "source": [
    "# Nesse ponto, temos 7% dos registros (redução de 25% para 7%). Podemos escolher entre três opções: (1) procurar outras features para remover que não oferecem ganho de informação e que reduziriam a quantidade de registros com variáveis faltantes; (2) preencher as variáveis faltantes de acordo com alguma regra, p.ex., média, mais frequente, etc.; e (3) remover esses regitros. No momento vamos pela opção 3.\n",
    "import preprocessing\n",
    "preprocessing.removeRegistersWithMissingVariables(\"data/callcenter_case_no-inadimplente.csv\", \"data/callcenter_case_no-inadimplente_no-missing.csv\")\n",
    "\n",
    "# Verificando se o processo funcionou.\n",
    "preprocessing.checkForIncompleteRegisters(\"data/callcenter_case_no-inadimplente_no-missing.csv\")"
   ]
  },
  {
   "source": [
    "### Tratando atributos categóricos\n",
    "\n",
    "Agora que tratamos o problema de variáveis faltantes, vamos transformar os atributos categóricos em numéricos. Foi implementado três codificações para transformar esses atributos: (1) Label Encoding, (2) One Hot Encoding e (3) Find and Replace. Esse último apenas faz algum mapeamento simples como, por exemplo, substituir 'no' por 0 e 'yes' por 1.\n",
    "\n",
    "Agora vamos classificar os 18 atributos restantes nas seguintes categorias:\n",
    "\n",
    "- Numéricos: idade, duracao, qtd_contatos_campanha, dias_ultimo_contato, qtd_contatos_total, indice_precos_consumidor, indice_confianca_consumidor, taxa_juros_media\n",
    "- Categórico binário: nesse caso, podemos utilizar formas mais simples para tranformar o atributo categórico binário em númerio. São eles: emprestimo_moradia, emprestimo_pessoal, meio_contato.\n",
    "- Categórico: profissao, estado_civil, educacao, mes, dia_da_semana, campanha_anterior.\n",
    "- Alvo: aderencia_campanha.\n"
   ],
   "cell_type": "markdown",
   "metadata": {}
  },
  {
   "cell_type": "code",
   "execution_count": 1,
   "metadata": {},
   "outputs": [],
   "source": [
    "# Agora realizamos a transformação dos atributos categóricos em atributos númericos\n",
    "from features_transformation import readDatabase,\\\n",
    "        treatCategoricalBinaryFeatures,\\\n",
    "        treatCategoricalFeatures,\\\n",
    "        dumpDatasetBasedOnTransformedRecords\n",
    "        \n",
    "input_file = \"data/callcenter_case_no-inadimplente_no-missing.csv\"\n",
    "header, records_list = readDatabase(input_file)\n",
    "\n",
    "# Primeito transformação dos atributos categóricos com apenas duas categorias\n",
    "treatCategoricalBinaryFeatures(header, records_list)\n",
    "\n",
    "# Em seguida, realizamos a transformação dos demais atributos categóricos\n",
    "header, records_list = treatCategoricalFeatures(header, records_list)\n",
    "\n",
    "# Cria um novo dataset que considera os registros com a transformação\n",
    "output_file = \"data/callcenter_case_fixed.csv\"\n",
    "dumpDatasetBasedOnTransformedRecords(output_file, header, records_list)"
   ]
  },
  {
   "source": [
    "### Avaliação de modelos de predição\n",
    "\n",
    "Depois de transformar os atributos categóricos em atributos númericos, iremos considerar três classificadores: Ranfom Forest, SVM e Naive Bayes. A escolha do Random Forest se baseia no fato que esse classificador geralmente tem bom desempenho em bases desbalanceadas. O SVM e o Naive Bayes tendem a funcionar bem quando temos dados esparsos, sendo o caso depois de transformar os atributos categóricos.\n",
    "\n",
    "Segue as configurações utilizadas em cada classificador e o/os parâmetros que serão variados:\n",
    "\n",
    "- Random Forest: aumentamos os número de estimadores de 100 para 1000 e iremos variar a profundidade máxima das árvores."
   ],
   "cell_type": "markdown",
   "metadata": {}
  },
  {
   "cell_type": "code",
   "execution_count": 1,
   "metadata": {},
   "outputs": [
    {
     "output_type": "stream",
     "name": "stdout",
     "text": [
      "accuracy,precision,recall,f1_macro\n",
      "0.77\t0.65\t0.61\t0.56\n",
      "[[27642  6345]\n",
      " [ 2558  1700]]\n"
     ]
    }
   ],
   "source": [
    "### Naive- considering all features ###\n",
    "\n",
    "from classifiers import readDatabase, getCompleteData,\\\n",
    "        getDataFromBestKFeaturesSelection,\\\n",
    "        runRandomForest, runSVM, runNaiveBayes\n",
    "        \n",
    "# Leitura da base de dados e preparação dos dados\n",
    "input_file = \"data/callcenter_case_fixed.csv\"\n",
    "header, records_list = readDatabase(input_file)\n",
    "case_data, case_target = getCompleteData(header, records_list)\n",
    "\n",
    "# Executa o Naive Bayes\n",
    "runNaiveBayes(case_data, case_target, True)"
   ]
  },
  {
   "cell_type": "code",
   "execution_count": 1,
   "metadata": {},
   "outputs": [
    {
     "output_type": "stream",
     "name": "stdout",
     "text": [
      "Max Depth Value:  1\n",
      "accuracy,precision,recall,f1_macro\n",
      "0.89\t0.45\t0.50\t0.47\n",
      "Max Depth Value:  2\n",
      "accuracy,precision,recall,f1_macro\n",
      "0.85\t0.47\t0.53\t0.49\n",
      "Max Depth Value:  4\n",
      "accuracy,precision,recall,f1_macro\n",
      "0.68\t0.44\t0.46\t0.39\n",
      "Max Depth Value:  6\n",
      "accuracy,precision,recall,f1_macro\n",
      "0.57\t0.45\t0.41\t0.34\n",
      "Max Depth Value:  8\n",
      "accuracy,precision,recall,f1_macro\n",
      "0.49\t0.43\t0.37\t0.30\n",
      "Max Depth Value:  10\n",
      "accuracy,precision,recall,f1_macro\n",
      "0.49\t0.43\t0.36\t0.30\n"
     ]
    }
   ],
   "source": [
    "### Random Forest considering all features ###\n",
    "\n",
    "from classifiers import readDatabase, getCompleteData,\\\n",
    "        getDataFromBestKFeaturesSelection,\\\n",
    "        runRandomForest\n",
    "        \n",
    "# Leitura da base de dados e preparação dos dados\n",
    "input_file = \"data/callcenter_case_fixed.csv\"\n",
    "header, records_list = readDatabase(input_file)\n",
    "case_data, case_target = getCompleteData(header, records_list)\n",
    "\n",
    "# Executa o Random Forest variando a profundidade entre 2 e 10\n",
    "depth_values = [1,2,4,6,8,10]\n",
    "for depth_value in depth_values:\n",
    "    print(\"Max Depth Value: \", depth_value)\n",
    "    runRandomForest(case_data, case_target, depth_value)"
   ]
  },
  {
   "cell_type": "code",
   "execution_count": 8,
   "metadata": {},
   "outputs": [
    {
     "output_type": "stream",
     "name": "stdout",
     "text": [
      "accuracy,precision,recall,f1_macro\n",
      "0.85\t0.47\t0.53\t0.49\n",
      "[[32362  1625]\n",
      " [ 4036   222]]\n"
     ]
    }
   ],
   "source": [
    "### Random Forest best result confusion matrix ###\n",
    "\n",
    "from classifiers import readDatabase, getCompleteData,\\\n",
    "        getDataFromBestKFeaturesSelection,\\\n",
    "        runRandomForest\n",
    "        \n",
    "# Leitura da base de dados e preparação dos dados\n",
    "input_file = \"data/callcenter_case_fixed.csv\"\n",
    "header, records_list = readDatabase(input_file)\n",
    "case_data, case_target = getCompleteData(header, records_list)\n",
    "\n",
    "# Executa o Random Forest variando a profundidade entre 2 e 10\n",
    "depth_value = 2\n",
    "runRandomForest(case_data, case_target, depth_value, True)"
   ]
  },
  {
   "cell_type": "code",
   "execution_count": 1,
   "metadata": {},
   "outputs": [
    {
     "output_type": "stream",
     "name": "stdout",
     "text": [
      " >>> Using kernel:  rbf\n",
      "Using C:  0.01\n",
      "accuracy,precision,recall,f1_macro\n",
      "0.90\t0.76\t0.60\t0.61\n",
      "Using C:  0.1\n",
      "accuracy,precision,recall,f1_macro\n",
      "0.90\t0.81\t0.62\t0.64\n",
      "Using C:  1\n",
      "accuracy,precision,recall,f1_macro\n",
      "0.90\t0.81\t0.61\t0.64\n",
      "Using C:  10\n",
      "accuracy,precision,recall,f1_macro\n",
      "0.90\t0.80\t0.62\t0.65\n",
      "Using C:  100\n",
      "accuracy,precision,recall,f1_macro\n",
      "0.87\t0.78\t0.62\t0.63\n"
     ]
    }
   ],
   "source": [
    "### SVM considering all features ###\n",
    "\n",
    "from classifiers import readDatabase, getCompleteData,\\\n",
    "        getDataFromBestKFeaturesSelection,\\\n",
    "        runRandomForest, runSVM\n",
    "        \n",
    "# Leitura da base de dados e preparação dos dados\n",
    "input_file = \"data/callcenter_case_fixed.csv\"\n",
    "header, records_list = readDatabase(input_file)\n",
    "case_data, case_target = getCompleteData(header, records_list)\n",
    "\n",
    "# Executa o SVM variando o kernel\n",
    "kernel_values = ['rbf']\n",
    "c_values = [0.01, 0.1, 1, 10, 100]\n",
    "for kernel_value in kernel_values:\n",
    "    print(\" >>> Using kernel: \", kernel_value)\n",
    "    for c_value in c_values:\n",
    "        print(\"Using C: \", c_value)\n",
    "        runSVM(case_data, case_target, kernel_value, c_value)\n"
   ]
  },
  {
   "cell_type": "code",
   "execution_count": 1,
   "metadata": {},
   "outputs": [
    {
     "output_type": "stream",
     "name": "stdout",
     "text": [
      "accuracy,precision,recall,f1_macro\n",
      "0.90\t0.80\t0.62\t0.65\n",
      "[[33217   770]\n",
      " [ 3113  1145]]\n"
     ]
    }
   ],
   "source": [
    "### SVM Best Result Confusion Matrix -- considering all features ###\n",
    "\n",
    "from classifiers import readDatabase, getCompleteData,\\\n",
    "        getDataFromBestKFeaturesSelection,\\\n",
    "        runRandomForest, runSVM\n",
    "        \n",
    "# Leitura da base de dados e preparação dos dados\n",
    "input_file = \"data/callcenter_case_fixed.csv\"\n",
    "header, records_list = readDatabase(input_file)\n",
    "case_data, case_target = getCompleteData(header, records_list)\n",
    "\n",
    "# Executa o SVM variando o kernel\n",
    "kernel_value = 'rbf'\n",
    "c_value = 10\n",
    "runSVM(case_data, case_target, kernel_value, c_value, True)"
   ]
  },
  {
   "cell_type": "code",
   "execution_count": 3,
   "metadata": {},
   "outputs": [
    {
     "output_type": "stream",
     "name": "stdout",
     "text": [
      "Max Depth Value:  1\n"
     ]
    }
   ],
   "source": [
    "### Random Forest considering a subset of features ###\n",
    "\n",
    "from classifiers import readDatabase, getCompleteData,\\\n",
    "        getDataFromBestKFeaturesSelection,\\\n",
    "        runRandomForest\n",
    "        \n",
    "# Leitura da base de dados e preparação dos dados\n",
    "input_file = \"data/callcenter_case_fixed.csv\"\n",
    "header, records_list = readDatabase(input_file)\n",
    "case_data, case_target = getDataFromBestKFeaturesSelection(header, records_list)\n",
    "\n",
    "# Executa o Random Forest variando a profundidade entre 2 e 10\n",
    "depth_values = [1,2,4,6,8,10]\n",
    "for depth_value in depth_values:\n",
    "    print(\"Max Depth Value: \", depth_value)\n",
    "    runRandomForest(case_data, case_target, depth_value)"
   ]
  },
  {
   "cell_type": "code",
   "execution_count": 1,
   "metadata": {},
   "outputs": [
    {
     "output_type": "stream",
     "name": "stdout",
     "text": [
      "Using kernel:  linear\n",
      "accuracy,precision,recall,f1_macro\n",
      "0.89\t0.78\t0.62\t0.63\n",
      "Using kernel:  rbf\n",
      "accuracy,precision,recall,f1_macro\n",
      "0.90\t0.80\t0.62\t0.64\n"
     ]
    }
   ],
   "source": [
    "### SVM considering a subset of features ###\n",
    "\n",
    "from classifiers import readDatabase, getCompleteData,\\\n",
    "        getDataFromBestKFeaturesSelection,\\\n",
    "        runRandomForest, runSVM\n",
    "        \n",
    "# Leitura da base de dados e preparação dos dados\n",
    "input_file = \"data/callcenter_case_fixed.csv\"\n",
    "header, records_list = readDatabase(input_file)\n",
    "case_data, case_target = getDataFromBestKFeaturesSelection(header, records_list, 10)\n",
    "\n",
    "# Executa o SVM variando o kernel\n",
    "kernel_values = ['linear', 'rbf']\n",
    "for kernel_value in kernel_values:\n",
    "    print(\"Using kernel: \", kernel_value)\n",
    "    c_value = 1\n",
    "    runSVM(case_data, case_target, kernel_value, c_value)"
   ]
  },
  {
   "source": [
    "### Normalização dos atributos numéricos\n",
    "\n",
    "Nesse ponto realizamos a normalização dos atributos númericos e em seguida refazemos as avaliações para verificar se os resultados foram melhores, piores ou se mantiveram da mesma forma. Normalizamos os atributos para que todos fiquem entre 0 e 1.\n",
    "\n",
    "Fizemos um tratamento especial para o atributo \"dias_ultimo_contato\", pois vários registros apresentabam o valor como 999 (muito acima dos demais valores) e acabava dificultando a diferenciação entre os valores menores. Assim, substituímos o valor 999 pelo valor dado pelo dobro do segundo maior valor, i.e., 2*27 = 54."
   ],
   "cell_type": "markdown",
   "metadata": {}
  },
  {
   "cell_type": "code",
   "execution_count": 1,
   "metadata": {},
   "outputs": [],
   "source": [
    "from features_transformation import normalizeNumericFeatures,\\\n",
    "        dumpDatasetBasedOnTransformedRecords,\\\n",
    "        readDatabase\n",
    "\n",
    "# Realiza a normalização dos atributos numéricos\n",
    "input_file = \"data/callcenter_case_fixed.csv\"\n",
    "header, records_list = readDatabase(input_file)\n",
    "normalizeNumericFeatures(header, records_list)\n",
    "\n",
    "# Cria um novo dataset que considera os registros com a normalização\n",
    "output_file = \"data/callcenter_case_fixed_normalized.csv\"\n",
    "dumpDatasetBasedOnTransformedRecords(output_file, header, records_list)"
   ]
  },
  {
   "source": [
    "### Reavaliação dos métodos de predição considerando a base de dados normalizada\n",
    "\n",
    "Fizemos a normalização dos atributos numéricos e agora vamos avaliar a qualidade do modelo depois de realizar a operação. Vamos variar os mesmos parâmetros avaliados anteriormente."
   ],
   "cell_type": "markdown",
   "metadata": {}
  },
  {
   "cell_type": "code",
   "execution_count": 1,
   "metadata": {},
   "outputs": [
    {
     "output_type": "stream",
     "name": "stdout",
     "text": [
      "accuracy,precision,recall,f1_macro\n",
      "0.77\t0.65\t0.61\t0.56\n",
      "[[27781  6206]\n",
      " [ 2564  1694]]\n"
     ]
    }
   ],
   "source": [
    "### Naive- considering all features -- Normalized Data ###\n",
    "\n",
    "from classifiers import readDatabase, getCompleteData,\\\n",
    "        getDataFromBestKFeaturesSelection,\\\n",
    "        runRandomForest, runSVM, runNaiveBayes\n",
    "        \n",
    "# Leitura da base de dados e preparação dos dados\n",
    "input_file = \"data/callcenter_case_fixed_normalized.csv\"\n",
    "header, records_list = readDatabase(input_file)\n",
    "case_data, case_target = getCompleteData(header, records_list)\n",
    "\n",
    "# Executa o Naive Bayes\n",
    "runNaiveBayes(case_data, case_target, True)"
   ]
  },
  {
   "cell_type": "code",
   "execution_count": 1,
   "metadata": {},
   "outputs": [
    {
     "output_type": "stream",
     "name": "stdout",
     "text": [
      "Max Depth Value:  1\n",
      "accuracy,precision,recall,f1_macro\n",
      "0.89\t0.45\t0.50\t0.47\n",
      "Max Depth Value:  2\n",
      "accuracy,precision,recall,f1_macro\n",
      "0.85\t0.47\t0.53\t0.49\n",
      "Max Depth Value:  4\n",
      "accuracy,precision,recall,f1_macro\n",
      "0.68\t0.44\t0.46\t0.39\n",
      "Max Depth Value:  6\n",
      "accuracy,precision,recall,f1_macro\n",
      "0.57\t0.45\t0.41\t0.34\n",
      "Max Depth Value:  8\n",
      "accuracy,precision,recall,f1_macro\n",
      "0.49\t0.43\t0.37\t0.30\n",
      "Max Depth Value:  10\n",
      "accuracy,precision,recall,f1_macro\n",
      "0.49\t0.43\t0.37\t0.30\n"
     ]
    }
   ],
   "source": [
    "### Random Forest considering all features -- Normalized Data ###\n",
    "\n",
    "from classifiers import readDatabase, getCompleteData,\\\n",
    "        getDataFromBestKFeaturesSelection,\\\n",
    "        runRandomForest\n",
    "        \n",
    "# Leitura da base de dados e preparação dos dados\n",
    "input_file = \"data/callcenter_case_fixed_normalized.csv\"\n",
    "header, records_list = readDatabase(input_file)\n",
    "case_data, case_target = getCompleteData(header, records_list)\n",
    "\n",
    "# Executa o Random Forest variando a profundidade entre 2 e 10\n",
    "depth_values = [1,2,4,6,8,10]\n",
    "for depth_value in depth_values:\n",
    "    print(\"Max Depth Value: \", depth_value)\n",
    "    runRandomForest(case_data, case_target, depth_value)"
   ]
  },
  {
   "cell_type": "code",
   "execution_count": 1,
   "metadata": {},
   "outputs": [
    {
     "output_type": "stream",
     "name": "stdout",
     "text": [
      " >>> Using kernel:  rbf\n",
      "Using C:  0.01\n",
      "accuracy,precision,recall,f1_macro\n",
      "0.89\t0.47\t0.52\t0.49\n",
      "Using C:  0.1\n",
      "accuracy,precision,recall,f1_macro\n",
      "0.80\t0.74\t0.55\t0.52\n",
      "Using C:  1\n",
      "accuracy,precision,recall,f1_macro\n",
      "0.74\t0.59\t0.48\t0.45\n",
      "Using C:  10\n",
      "accuracy,precision,recall,f1_macro\n",
      "0.72\t0.56\t0.48\t0.45\n",
      "Using C:  100\n",
      "accuracy,precision,recall,f1_macro\n",
      "0.71\t0.55\t0.48\t0.46\n"
     ]
    }
   ],
   "source": [
    "### SVM considering all features -- Normalized Dataset ###\n",
    "\n",
    "from classifiers import readDatabase, getCompleteData,\\\n",
    "        getDataFromBestKFeaturesSelection,\\\n",
    "        runRandomForest, runSVM\n",
    "        \n",
    "# Leitura da base de dados e preparação dos dados\n",
    "input_file = \"data/callcenter_case_fixed_normalized.csv\"\n",
    "header, records_list = readDatabase(input_file)\n",
    "case_data, case_target = getCompleteData(header, records_list)\n",
    "\n",
    "# Executa o SVM variando o kernel\n",
    "kernel_values = ['rbf']\n",
    "c_values = [0.01, 0.1, 1, 10, 100]\n",
    "for kernel_value in kernel_values:\n",
    "    print(\" >>> Using kernel: \", kernel_value)\n",
    "    for c_value in c_values:\n",
    "        print(\"Using C: \", c_value)\n",
    "        runSVM(case_data, case_target, kernel_value, c_value)"
   ]
  },
  {
   "source": [
    "### SVM best result confusion matrix -- Normalized Dataset ###\n",
    "\n",
    "from classifiers import readDatabase, getCompleteData,\\\n",
    "        getDataFromBestKFeaturesSelection,\\\n",
    "        runRandomForest, runSVM\n",
    "        \n",
    "# Leitura da base de dados e preparação dos dados\n",
    "input_file = \"data/callcenter_case_fixed_normalized.csv\"\n",
    "header, records_list = readDatabase(input_file)\n",
    "case_data, case_target = getCompleteData(header, records_list)\n",
    "\n",
    "# Executa o SVM variando o kernel\n",
    "kernel_value = 'rbf'\n",
    "c_value = 0.1\n",
    "runSVM(case_data, case_target, kernel_value, c_value, True)"
   ],
   "cell_type": "code",
   "metadata": {},
   "execution_count": 12,
   "outputs": []
  },
  {
   "source": [
    "### Seleção de features\n",
    "\n",
    "A fim de maximizar a utilidade dos atributos que oferecem maior ganho de informação, evitando que outros atributos que não ajudam no processo de classificação atrapalhem o processo, vamos utilizar o método SelectKBest para tentar selecionar apenas K atributos para serem utilizados na classificação."
   ],
   "cell_type": "markdown",
   "metadata": {}
  },
  {
   "cell_type": "code",
   "execution_count": 5,
   "metadata": {},
   "outputs": [
    {
     "output_type": "stream",
     "name": "stdout",
     "text": [
      "Number of features to select:  1\n",
      "accuracy,precision,recall,f1_macro\n",
      "0.90\t0.79\t0.59\t0.60\n",
      "[[33547   440]\n",
      " [ 3455   803]]\n",
      "Number of features to select:  2\n",
      "accuracy,precision,recall,f1_macro\n",
      "0.90\t0.78\t0.61\t0.62\n",
      "[[33314   673]\n",
      " [ 3255  1003]]\n",
      "Number of features to select:  3\n",
      "accuracy,precision,recall,f1_macro\n",
      "0.90\t0.78\t0.61\t0.62\n",
      "[[33314   673]\n",
      " [ 3255  1003]]\n",
      "Number of features to select:  4\n",
      "accuracy,precision,recall,f1_macro\n",
      "0.89\t0.78\t0.63\t0.63\n",
      "[[32989   998]\n",
      " [ 3046  1212]]\n",
      "Number of features to select:  5\n",
      "accuracy,precision,recall,f1_macro\n",
      "0.89\t0.79\t0.64\t0.64\n",
      "[[32740  1247]\n",
      " [ 2924  1334]]\n",
      "Number of features to select:  6\n",
      "accuracy,precision,recall,f1_macro\n",
      "0.89\t0.78\t0.65\t0.64\n",
      "[[32467  1520]\n",
      " [ 2826  1432]]\n",
      "Number of features to select:  7\n",
      "accuracy,precision,recall,f1_macro\n",
      "0.89\t0.82\t0.68\t0.69\n",
      "[[32223  1764]\n",
      " [ 2478  1780]]\n",
      "Number of features to select:  8\n",
      "accuracy,precision,recall,f1_macro\n",
      "0.89\t0.80\t0.70\t0.70\n",
      "[[31970  2017]\n",
      " [ 2334  1924]]\n",
      "Number of features to select:  9\n",
      "accuracy,precision,recall,f1_macro\n",
      "0.88\t0.79\t0.69\t0.69\n",
      "[[31906  2081]\n",
      " [ 2366  1892]]\n",
      "Number of features to select:  10\n",
      "accuracy,precision,recall,f1_macro\n",
      "0.88\t0.78\t0.69\t0.69\n",
      "[[31851  2136]\n",
      " [ 2378  1880]]\n",
      "Number of features to select:  11\n",
      "accuracy,precision,recall,f1_macro\n",
      "0.88\t0.76\t0.69\t0.69\n",
      "[[31623  2364]\n",
      " [ 2320  1938]]\n",
      "Number of features to select:  12\n",
      "accuracy,precision,recall,f1_macro\n",
      "0.88\t0.77\t0.68\t0.68\n",
      "[[31776  2211]\n",
      " [ 2435  1823]]\n",
      "Number of features to select:  13\n",
      "accuracy,precision,recall,f1_macro\n",
      "0.84\t0.76\t0.65\t0.64\n",
      "[[30159  3828]\n",
      " [ 2482  1776]]\n",
      "Number of features to select:  14\n",
      "accuracy,precision,recall,f1_macro\n",
      "0.83\t0.76\t0.65\t0.64\n",
      "[[30026  3961]\n",
      " [ 2481  1777]]\n",
      "Number of features to select:  15\n",
      "accuracy,precision,recall,f1_macro\n",
      "0.83\t0.75\t0.65\t0.64\n",
      "[[30021  3966]\n",
      " [ 2470  1788]]\n",
      "Number of features to select:  16\n",
      "accuracy,precision,recall,f1_macro\n",
      "0.83\t0.75\t0.64\t0.63\n",
      "[[30134  3853]\n",
      " [ 2546  1712]]\n",
      "Number of features to select:  17\n",
      "accuracy,precision,recall,f1_macro\n",
      "0.83\t0.75\t0.64\t0.63\n",
      "[[30136  3851]\n",
      " [ 2545  1713]]\n",
      "Number of features to select:  18\n",
      "accuracy,precision,recall,f1_macro\n",
      "0.83\t0.75\t0.64\t0.63\n",
      "[[30132  3855]\n",
      " [ 2548  1710]]\n",
      "Number of features to select:  19\n",
      "accuracy,precision,recall,f1_macro\n",
      "0.83\t0.75\t0.64\t0.63\n",
      "[[30136  3851]\n",
      " [ 2544  1714]]\n",
      "Number of features to select:  20\n",
      "accuracy,precision,recall,f1_macro\n",
      "0.83\t0.75\t0.64\t0.63\n",
      "[[30113  3874]\n",
      " [ 2549  1709]]\n"
     ]
    }
   ],
   "source": [
    "### Naive Bayes considering Top features -- Normalized Dataset ###\n",
    "\n",
    "from classifiers import readDatabase, getCompleteData,\\\n",
    "        getDataFromBestKFeaturesSelection,\\\n",
    "        runRandomForest, runSVM, runNaiveBayes\n",
    "        \n",
    "# Leitura da base de dados e preparação dos dados\n",
    "input_file = \"data/callcenter_case_fixed_normalized.csv\"\n",
    "header, records_list = readDatabase(input_file)\n",
    "\n",
    "# Executa o Naive Bayes\n",
    "num_feats_list = [5, 10, 15]\n",
    "for num_feat in range(1,21):\n",
    "    print(\"Number of features to select: \", num_feat)\n",
    "    case_data, case_target = getDataFromBestKFeaturesSelection(header, records_list, num_feat, True)\n",
    "    runNaiveBayes(case_data, case_target, True)"
   ]
  },
  {
   "cell_type": "code",
   "execution_count": 1,
   "metadata": {},
   "outputs": [
    {
     "output_type": "stream",
     "name": "stdout",
     "text": [
      "Max Depth Value:  1\n",
      "accuracy,precision,recall,f1_macro\n",
      "0.89\t0.50\t0.54\t0.52\n",
      "Max Depth Value:  2\n",
      "accuracy,precision,recall,f1_macro\n",
      "0.74\t0.52\t0.50\t0.41\n",
      "Max Depth Value:  4\n",
      "accuracy,precision,recall,f1_macro\n",
      "0.72\t0.59\t0.51\t0.42\n",
      "Max Depth Value:  6\n",
      "accuracy,precision,recall,f1_macro\n",
      "0.58\t0.45\t0.44\t0.34\n",
      "Max Depth Value:  8\n",
      "accuracy,precision,recall,f1_macro\n",
      "0.58\t0.46\t0.44\t0.34\n",
      "Max Depth Value:  10\n",
      "accuracy,precision,recall,f1_macro\n",
      "0.55\t0.55\t0.42\t0.33\n"
     ]
    }
   ],
   "source": [
    "### Random Forest considering a subset of features -- Normalized Data ###\n",
    "\n",
    "from classifiers import readDatabase, getCompleteData,\\\n",
    "        getDataFromBestKFeaturesSelection,\\\n",
    "        runRandomForest\n",
    "        \n",
    "# Leitura da base de dados e preparação dos dados\n",
    "input_file = \"data/callcenter_case_fixed_normalized.csv\"\n",
    "header, records_list = readDatabase(input_file)\n",
    "case_data, case_target = getDataFromBestKFeaturesSelection(header, records_list, 10, True)\n",
    "\n",
    "# Executa o Random Forest variando a profundidade entre 2 e 10\n",
    "depth_values = [1,2,4,6,8,10]\n",
    "for depth_value in depth_values:\n",
    "    print(\"Max Depth Value: \", depth_value)\n",
    "    runRandomForest(case_data, case_target, depth_value)"
   ]
  },
  {
   "cell_type": "code",
   "execution_count": 2,
   "metadata": {},
   "outputs": [
    {
     "output_type": "stream",
     "name": "stdout",
     "text": [
      ">>> Max Depth Value:  1\n",
      "Number of features to select:  2\n",
      "accuracy,precision,recall,f1_macro\n",
      "0.89\t0.59\t0.51\t0.48\n",
      "[[33975    12]\n",
      " [ 4206    52]]\n",
      "Number of features to select:  4\n",
      "accuracy,precision,recall,f1_macro\n",
      "0.74\t0.47\t0.50\t0.40\n",
      "[[33398   589]\n",
      " [ 4001   257]]\n",
      "Number of features to select:  6\n",
      "accuracy,precision,recall,f1_macro\n",
      "0.88\t0.49\t0.54\t0.51\n",
      "[[33657   330]\n",
      " [ 4035   223]]\n",
      "Number of features to select:  8\n",
      "accuracy,precision,recall,f1_macro\n",
      "0.89\t0.51\t0.52\t0.50\n",
      "[[33924    63]\n",
      " [ 4158   100]]\n",
      "Number of features to select:  10\n",
      "accuracy,precision,recall,f1_macro\n",
      "0.89\t0.51\t0.52\t0.50\n",
      "[[33815   172]\n",
      " [ 4074   184]]\n",
      ">>> Max Depth Value:  2\n",
      "Number of features to select:  2\n",
      "accuracy,precision,recall,f1_macro\n",
      "0.89\t0.76\t0.59\t0.59\n",
      "[[33314   673]\n",
      " [ 3396   862]]\n",
      "Number of features to select:  4\n",
      "accuracy,precision,recall,f1_macro\n",
      "0.73\t0.47\t0.50\t0.40\n",
      "[[31259  2728]\n",
      " [ 3527   731]]\n",
      "Number of features to select:  6\n",
      "accuracy,precision,recall,f1_macro\n",
      "0.74\t0.47\t0.50\t0.40\n",
      "[[31476  2511]\n",
      " [ 3800   458]]\n",
      "Number of features to select:  8\n",
      "accuracy,precision,recall,f1_macro\n",
      "0.83\t0.48\t0.54\t0.48\n",
      "[[32877  1110]\n",
      " [ 3865   393]]\n",
      "Number of features to select:  10\n",
      "accuracy,precision,recall,f1_macro\n",
      "0.74\t0.54\t0.51\t0.41\n",
      "[[32875  1112]\n",
      " [ 3836   422]]\n",
      ">>> Max Depth Value:  3\n",
      "Number of features to select:  2\n",
      "accuracy,precision,recall,f1_macro\n",
      "0.89\t0.76\t0.59\t0.59\n",
      "[[33314   673]\n",
      " [ 3396   862]]\n",
      "Number of features to select:  4\n",
      "accuracy,precision,recall,f1_macro\n",
      "0.59\t0.43\t0.42\t0.33\n",
      "[[27967  6020]\n",
      " [ 3446   812]]\n",
      "Number of features to select:  6\n",
      "accuracy,precision,recall,f1_macro\n",
      "0.73\t0.49\t0.51\t0.41\n",
      "[[31242  2745]\n",
      " [ 3525   733]]\n",
      "Number of features to select:  8\n",
      "accuracy,precision,recall,f1_macro\n",
      "0.74\t0.49\t0.51\t0.41\n",
      "[[31678  2309]\n",
      " [ 3719   539]]\n",
      "Number of features to select:  10\n",
      "accuracy,precision,recall,f1_macro\n",
      "0.73\t0.47\t0.50\t0.41\n",
      "[[31333  2654]\n",
      " [ 3604   654]]\n"
     ]
    }
   ],
   "source": [
    "### Random Forest considering a subset of features -- Normalized Data ###\n",
    "\n",
    "from classifiers import readDatabase, getCompleteData,\\\n",
    "        getDataFromBestKFeaturesSelection,\\\n",
    "        runRandomForest\n",
    "        \n",
    "# Leitura da base de dados e preparação dos dados\n",
    "input_file = \"data/callcenter_case_fixed_normalized.csv\"\n",
    "header, records_list = readDatabase(input_file)\n",
    "\n",
    "# Executa o Random Forest variando a profundidade entre 2 e 10\n",
    "depth_values = [1,2,3]\n",
    "num_feats_list = [2,4,6,8,10]\n",
    "for depth_value in depth_values:\n",
    "    print(\">>> Max Depth Value: \", depth_value)\n",
    "    for num_feat in num_feats_list:\n",
    "        print(\"Number of features to select: \", num_feat)\n",
    "        case_data, case_target = getDataFromBestKFeaturesSelection(header, records_list, num_feat, True)\n",
    "        runRandomForest(case_data, case_target, depth_value, True)"
   ]
  },
  {
   "cell_type": "code",
   "execution_count": 2,
   "metadata": {},
   "outputs": [
    {
     "output_type": "stream",
     "name": "stdout",
     "text": [
      " >>> Using kernel:  rbf\n",
      "Using C:  0.01\n",
      "accuracy,precision,recall,f1_macro\n",
      "0.88\t0.73\t0.59\t0.59\n",
      "Using C:  0.1\n",
      "accuracy,precision,recall,f1_macro\n",
      "0.87\t0.72\t0.58\t0.57\n",
      "Using C:  1\n",
      "accuracy,precision,recall,f1_macro\n",
      "0.85\t0.62\t0.57\t0.54\n",
      "Using C:  10\n",
      "accuracy,precision,recall,f1_macro\n",
      "0.85\t0.61\t0.56\t0.53\n",
      "Using C:  100\n",
      "accuracy,precision,recall,f1_macro\n",
      "0.85\t0.60\t0.56\t0.52\n",
      " >>> Using kernel:  sigmoid\n",
      "Using C:  0.01\n",
      "accuracy,precision,recall,f1_macro\n",
      "0.90\t0.79\t0.59\t0.60\n",
      "Using C:  0.1\n",
      "accuracy,precision,recall,f1_macro\n",
      "0.90\t0.67\t0.62\t0.60\n",
      "Using C:  1\n",
      "accuracy,precision,recall,f1_macro\n",
      "0.87\t0.62\t0.63\t0.60\n",
      "Using C:  10\n",
      "accuracy,precision,recall,f1_macro\n",
      "0.81\t0.67\t0.61\t0.57\n",
      "Using C:  100\n",
      "accuracy,precision,recall,f1_macro\n",
      "0.80\t0.67\t0.61\t0.58\n",
      " >>> Using kernel:  linear\n",
      "Using C:  0.01\n",
      "accuracy,precision,recall,f1_macro\n",
      "0.89\t0.79\t0.59\t0.59\n",
      "Using C:  0.1\n",
      "accuracy,precision,recall,f1_macro\n",
      "0.88\t0.78\t0.60\t0.59\n",
      "Using C:  1\n",
      "accuracy,precision,recall,f1_macro\n",
      "0.88\t0.78\t0.60\t0.59\n",
      "Using C:  10\n",
      "accuracy,precision,recall,f1_macro\n",
      "0.88\t0.78\t0.60\t0.59\n",
      "Using C:  100\n",
      "accuracy,precision,recall,f1_macro\n",
      "0.88\t0.78\t0.60\t0.59\n"
     ]
    }
   ],
   "source": [
    "### SVM considering Top 5 features -- Normalized Dataset ###\n",
    "\n",
    "from classifiers import readDatabase, getCompleteData,\\\n",
    "        getDataFromBestKFeaturesSelection,\\\n",
    "        runRandomForest, runSVM\n",
    "        \n",
    "# Leitura da base de dados e preparação dos dados\n",
    "input_file = \"data/callcenter_case_fixed_normalized.csv\"\n",
    "header, records_list = readDatabase(input_file)\n",
    "case_data, case_target = getDataFromBestKFeaturesSelection(header, records_list, 5, True)\n",
    "\n",
    "# Executa o SVM variando o kernel\n",
    "kernel_values = ['rbf', 'sigmoid','linear']\n",
    "c_values = [0.01, 0.1, 1, 10, 100]\n",
    "for kernel_value in kernel_values:\n",
    "    print(\" >>> Using kernel: \", kernel_value)\n",
    "    for c_value in c_values:\n",
    "        print(\"Using C: \", c_value)\n",
    "        runSVM(case_data, case_target, kernel_value, c_value)"
   ]
  },
  {
   "cell_type": "code",
   "execution_count": 3,
   "metadata": {},
   "outputs": [
    {
     "output_type": "stream",
     "name": "stdout",
     "text": [
      "Number of features to select:  2\n",
      "accuracy,precision,recall,f1_macro\n",
      "0.90\t0.79\t0.59\t0.60\n",
      "[[33547   440]\n",
      " [ 3455   803]]\n",
      "Number of features to select:  4\n",
      "accuracy,precision,recall,f1_macro\n",
      "0.90\t0.79\t0.59\t0.60\n",
      "[[33520   467]\n",
      " [ 3434   824]]\n",
      "Number of features to select:  6\n",
      "accuracy,precision,recall,f1_macro\n",
      "0.90\t0.79\t0.59\t0.60\n",
      "[[33474   513]\n",
      " [ 3415   843]]\n",
      "Number of features to select:  8\n",
      "accuracy,precision,recall,f1_macro\n",
      "0.88\t0.69\t0.58\t0.58\n",
      "[[32835  1152]\n",
      " [ 3470   788]]\n",
      "Number of features to select:  10\n",
      "accuracy,precision,recall,f1_macro\n",
      "0.89\t0.71\t0.52\t0.50\n",
      "[[33659   328]\n",
      " [ 4006   252]]\n"
     ]
    }
   ],
   "source": [
    "### SVM considering Top K features -- Normalized Dataset ###\n",
    "\n",
    "from classifiers import readDatabase, getCompleteData,\\\n",
    "        getDataFromBestKFeaturesSelection,\\\n",
    "        runRandomForest, runSVM\n",
    "        \n",
    "# Leitura da base de dados e preparação dos dados\n",
    "input_file = \"data/callcenter_case_fixed_normalized.csv\"\n",
    "header, records_list = readDatabase(input_file)\n",
    "\n",
    "\n",
    "# Executa o SVM variando o kernel\n",
    "kernel_value = 'sigmoid'\n",
    "c_value = 0.01\n",
    "num_feats_list = [2,4,6,8,10]\n",
    "for num_feat in num_feats_list:\n",
    "    print(\"Number of features to select: \", num_feat)\n",
    "    case_data, case_target = getDataFromBestKFeaturesSelection(header, records_list, num_feat, True)    \n",
    "    runSVM(case_data, case_target, kernel_value, c_value, True)"
   ]
  },
  {
   "cell_type": "code",
   "execution_count": 1,
   "metadata": {},
   "outputs": [
    {
     "output_type": "stream",
     "name": "stdout",
     "text": [
      "Number of components being used:  5\n",
      "accuracy,precision,recall,f1_macro\n",
      "0.81\t0.62\t0.54\t0.52\n",
      "Number of components being used:  10\n",
      "accuracy,precision,recall,f1_macro\n",
      "0.81\t0.62\t0.54\t0.52\n",
      "Number of components being used:  15\n",
      "accuracy,precision,recall,f1_macro\n",
      "0.81\t0.62\t0.54\t0.52\n",
      "Number of components being used:  20\n",
      "accuracy,precision,recall,f1_macro\n",
      "0.81\t0.62\t0.54\t0.52\n",
      "Number of components being used:  25\n"
     ]
    }
   ],
   "source": [
    "### SVM considering all features -- Normalized Dataset -- Using PCA ###\n",
    "\n",
    "from classifiers import readDatabase, getCompleteData,\\\n",
    "        getDataFromBestKFeaturesSelection,\\\n",
    "        runRandomForest, runSVM, getDataPCATransformed\n",
    "        \n",
    "# Leitura da base de dados e preparação dos dados\n",
    "input_file = \"data/callcenter_case_fixed_normalized.csv\"\n",
    "header, records_list = readDatabase(input_file)\n",
    "\n",
    "# Executa o SVM variando o kernel\n",
    "kernel_value = 'sigmoid'\n",
    "c_value = 0.1\n",
    "\n",
    "# Executa o SVM variando o número de componente do PCA\n",
    "n_comps = [5,10,15,20,25]\n",
    "for n_comp in n_comps:\n",
    "    print(\"Number of components being used: \", n_comp)\n",
    "    case_data, case_target = getDataPCATransformed(header, records_list, n_comp)\n",
    "    runSVM(case_data, case_target, kernel_value, c_value)"
   ]
  },
  {
   "cell_type": "code",
   "execution_count": 7,
   "metadata": {},
   "outputs": [
    {
     "output_type": "stream",
     "name": "stdout",
     "text": [
      "Number of components being used:  5\n",
      "accuracy,precision,recall,f1_macro\n",
      "0.80\t0.74\t0.55\t0.52\n",
      "Number of components being used:  10\n",
      "accuracy,precision,recall,f1_macro\n",
      "0.80\t0.74\t0.55\t0.52\n",
      "Number of components being used:  15\n",
      "accuracy,precision,recall,f1_macro\n",
      "0.80\t0.74\t0.55\t0.52\n",
      "Number of components being used:  20\n",
      "accuracy,precision,recall,f1_macro\n",
      "0.80\t0.74\t0.55\t0.52\n",
      "Number of components being used:  25\n",
      "accuracy,precision,recall,f1_macro\n",
      "0.80\t0.74\t0.55\t0.52\n"
     ]
    }
   ],
   "source": [
    "### SVM considering all features -- Normalized Dataset -- Using PCA ###\n",
    "\n",
    "from classifiers import readDatabase, getCompleteData,\\\n",
    "        getDataFromBestKFeaturesSelection,\\\n",
    "        runRandomForest, runSVM, getDataPCATransformed\n",
    "        \n",
    "# Leitura da base de dados e preparação dos dados\n",
    "input_file = \"data/callcenter_case_fixed_normalized.csv\"\n",
    "header, records_list = readDatabase(input_file)\n",
    "\n",
    "# Executa o SVM variando o kernel\n",
    "kernel_value = 'rbf'\n",
    "c_value = 0.1\n",
    "\n",
    "# Executa o SVM variando o número de componente do PCA\n",
    "n_comps = [5,10,15,20,25]\n",
    "for n_comp in n_comps:\n",
    "    print(\"Number of components being used: \", n_comp)\n",
    "    case_data, case_target = getDataPCATransformed(header, records_list, n_comp)\n",
    "    runSVM(case_data, case_target, kernel_value, c_value)"
   ]
  },
  {
   "cell_type": "code",
   "execution_count": 4,
   "metadata": {},
   "outputs": [
    {
     "output_type": "stream",
     "name": "stdout",
     "text": [
      "Number of components being used:  5\n",
      "accuracy,precision,recall,f1_macro\n",
      "0.85\t0.47\t0.53\t0.49\n",
      "Number of components being used:  10\n",
      "accuracy,precision,recall,f1_macro\n",
      "0.85\t0.46\t0.51\t0.48\n",
      "Number of components being used:  15\n",
      "accuracy,precision,recall,f1_macro\n",
      "0.85\t0.47\t0.53\t0.49\n",
      "Number of components being used:  20\n",
      "accuracy,precision,recall,f1_macro\n",
      "0.86\t0.47\t0.52\t0.49\n",
      "Number of components being used:  25\n",
      "accuracy,precision,recall,f1_macro\n",
      "0.85\t0.47\t0.52\t0.49\n"
     ]
    }
   ],
   "source": [
    "### Random Forest considering all features -- Normalized Dataset -- Using PCA ###\n",
    "\n",
    "from classifiers import readDatabase, getCompleteData,\\\n",
    "        getDataFromBestKFeaturesSelection,\\\n",
    "        runRandomForest, runSVM, getDataPCATransformed\n",
    "        \n",
    "# Leitura da base de dados e preparação dos dados\n",
    "input_file = \"data/callcenter_case_fixed_normalized.csv\"\n",
    "header, records_list = readDatabase(input_file)\n",
    "\n",
    "max_depth = 2\n",
    "\n",
    "# Executa o Random Forest variando o número de componente do PCA\n",
    "n_comps = [5,10,15,20,25]\n",
    "for n_comp in n_comps:\n",
    "    print(\"Number of components being used: \", n_comp)\n",
    "    case_data, case_target = getDataPCATransformed(header, records_list, n_comp)\n",
    "    runRandomForest(case_data, case_target, max_depth)"
   ]
  },
  {
   "cell_type": "code",
   "execution_count": 6,
   "metadata": {},
   "outputs": [
    {
     "output_type": "stream",
     "name": "stdout",
     "text": [
      "Number of components being used:  1\n",
      "accuracy,precision,recall,f1_macro\n",
      "0.77\t0.65\t0.61\t0.56\n",
      "Number of components being used:  2\n",
      "accuracy,precision,recall,f1_macro\n",
      "0.77\t0.65\t0.61\t0.56\n",
      "Number of components being used:  3\n",
      "accuracy,precision,recall,f1_macro\n",
      "0.77\t0.65\t0.61\t0.56\n",
      "Number of components being used:  4\n",
      "accuracy,precision,recall,f1_macro\n",
      "0.77\t0.65\t0.61\t0.56\n",
      "Number of components being used:  5\n",
      "accuracy,precision,recall,f1_macro\n",
      "0.77\t0.65\t0.61\t0.56\n",
      "Number of components being used:  6\n",
      "accuracy,precision,recall,f1_macro\n",
      "0.77\t0.65\t0.61\t0.56\n",
      "Number of components being used:  7\n",
      "accuracy,precision,recall,f1_macro\n",
      "0.77\t0.65\t0.61\t0.56\n",
      "Number of components being used:  8\n",
      "accuracy,precision,recall,f1_macro\n",
      "0.77\t0.65\t0.61\t0.56\n",
      "Number of components being used:  9\n",
      "accuracy,precision,recall,f1_macro\n",
      "0.77\t0.65\t0.61\t0.56\n",
      "Number of components being used:  10\n",
      "accuracy,precision,recall,f1_macro\n",
      "0.77\t0.65\t0.61\t0.56\n",
      "Number of components being used:  11\n",
      "accuracy,precision,recall,f1_macro\n",
      "0.77\t0.65\t0.61\t0.56\n",
      "Number of components being used:  12\n",
      "accuracy,precision,recall,f1_macro\n",
      "0.77\t0.65\t0.61\t0.56\n",
      "Number of components being used:  13\n",
      "accuracy,precision,recall,f1_macro\n",
      "0.77\t0.65\t0.61\t0.56\n",
      "Number of components being used:  14\n",
      "accuracy,precision,recall,f1_macro\n",
      "0.77\t0.65\t0.61\t0.56\n",
      "Number of components being used:  15\n",
      "accuracy,precision,recall,f1_macro\n",
      "0.77\t0.65\t0.61\t0.56\n",
      "Number of components being used:  16\n",
      "accuracy,precision,recall,f1_macro\n",
      "0.77\t0.65\t0.61\t0.56\n",
      "Number of components being used:  17\n",
      "accuracy,precision,recall,f1_macro\n",
      "0.77\t0.65\t0.61\t0.56\n",
      "Number of components being used:  18\n",
      "accuracy,precision,recall,f1_macro\n",
      "0.77\t0.65\t0.61\t0.56\n",
      "Number of components being used:  19\n",
      "accuracy,precision,recall,f1_macro\n",
      "0.77\t0.65\t0.61\t0.56\n",
      "Number of components being used:  20\n",
      "accuracy,precision,recall,f1_macro\n",
      "0.77\t0.65\t0.61\t0.56\n",
      "Number of components being used:  21\n",
      "accuracy,precision,recall,f1_macro\n",
      "0.77\t0.65\t0.61\t0.56\n",
      "Number of components being used:  22\n",
      "accuracy,precision,recall,f1_macro\n",
      "0.77\t0.65\t0.61\t0.56\n",
      "Number of components being used:  23\n",
      "accuracy,precision,recall,f1_macro\n",
      "0.77\t0.65\t0.61\t0.56\n",
      "Number of components being used:  24\n",
      "accuracy,precision,recall,f1_macro\n",
      "0.77\t0.65\t0.61\t0.56\n"
     ]
    }
   ],
   "source": [
    "### Naive bayes considering all features -- Normalized Dataset -- Using PCA ###\n",
    "\n",
    "from classifiers import readDatabase, getCompleteData,\\\n",
    "        getDataFromBestKFeaturesSelection,\\\n",
    "        runRandomForest, runSVM, getDataPCATransformed,\\\n",
    "        runNaiveBayes\n",
    "        \n",
    "# Leitura da base de dados e preparação dos dados\n",
    "input_file = \"data/callcenter_case_fixed_normalized.csv\"\n",
    "header, records_list = readDatabase(input_file)\n",
    "\n",
    "# Executa o Naive Bayes variando o número de componente do PCA\n",
    "n_comps = [5,10,15,20,25]\n",
    "for n_comp in range(1,25):\n",
    "    print(\"Number of components being used: \", n_comp)\n",
    "    case_data, case_target = getDataPCATransformed(header, records_list, n_comp)\n",
    "    runNaiveBayes(case_data, case_target)"
   ]
  },
  {
   "cell_type": "code",
   "execution_count": null,
   "metadata": {},
   "outputs": [],
   "source": []
  }
 ]
}